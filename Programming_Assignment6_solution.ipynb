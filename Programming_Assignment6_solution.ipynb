{
 "cells": [
  {
   "cell_type": "markdown",
   "id": "319ecfb9-e637-4b18-a4de-eaff22bbe31e",
   "metadata": {},
   "source": [
    "1.\tWrite a Python Program to Display Fibonacci Sequence Using Recursion?"
   ]
  },
  {
   "cell_type": "code",
   "execution_count": 1,
   "id": "309719b6-5149-4e3f-b656-2527e8916130",
   "metadata": {},
   "outputs": [
    {
     "name": "stdout",
     "output_type": "stream",
     "text": [
      "Fibonacci sequence:\n",
      "0\n",
      "1\n",
      "1\n",
      "2\n",
      "3\n",
      "5\n",
      "8\n",
      "13\n",
      "21\n",
      "34\n",
      "55\n",
      "89\n",
      "144\n"
     ]
    }
   ],
   "source": [
    "def recur_fibo(n):\n",
    "    if n <= 1:\n",
    "        return n\n",
    "    else:\n",
    "        return(recur_fibo(n-1) + recur_fibo(n-2))\n",
    "    \n",
    "nterms=13\n",
    "if nterms <= 0:\n",
    "    print(\"Plese enter a positive integer\")\n",
    "else:\n",
    "    print(\"Fibonacci sequence:\")\n",
    "    for i in range(nterms):\n",
    "        print(recur_fibo(i))"
   ]
  },
  {
   "cell_type": "markdown",
   "id": "b564880b-89fb-433f-9294-c6c1bdbd257d",
   "metadata": {},
   "source": [
    "2.\tWrite a Python Program to Find Factorial of Number Using Recursion?"
   ]
  },
  {
   "cell_type": "code",
   "execution_count": 10,
   "id": "a74c214c-3b4c-44f6-8057-183490e41db2",
   "metadata": {},
   "outputs": [],
   "source": [
    "def factorial(n):\n",
    "    if n==1:\n",
    "        return n\n",
    "    else:\n",
    "        return n*(factorial(n-1))"
   ]
  },
  {
   "cell_type": "code",
   "execution_count": 12,
   "id": "22528bbf-87b7-4c42-9f46-e129a8bbd5fa",
   "metadata": {},
   "outputs": [
    {
     "data": {
      "text/plain": [
       "24"
      ]
     },
     "execution_count": 12,
     "metadata": {},
     "output_type": "execute_result"
    }
   ],
   "source": [
    "factorial(4)"
   ]
  },
  {
   "cell_type": "markdown",
   "id": "dd6e9c3a-5ad7-4492-9849-d5ed12d2393d",
   "metadata": {},
   "source": [
    "3.\tWrite a Python Program to calculate your Body Mass Index?"
   ]
  },
  {
   "cell_type": "code",
   "execution_count": 19,
   "id": "a38e9fc6-bab6-4908-9e58-154ce4f561a9",
   "metadata": {},
   "outputs": [
    {
     "name": "stdin",
     "output_type": "stream",
     "text": [
      "Enter your weight in kg:  88\n",
      "Enter your height in Centimeter:  170\n"
     ]
    },
    {
     "name": "stdout",
     "output_type": "stream",
     "text": [
      "Your Body mass index is  30.449826989619382 kg/m^2\n"
     ]
    }
   ],
   "source": [
    "weight = float(input(\"Enter your weight in kg: \"))\n",
    "Height = float(input(\"Enter your height in Centimeter: \"))\n",
    "Height_meter = Height*0.01\n",
    "\n",
    "BMI = weight / (Height_meter**2)\n",
    "print(\"Your Body mass index is \", BMI, \"kg/m^2\")"
   ]
  },
  {
   "cell_type": "markdown",
   "id": "b590bb6a-89e1-4bba-b866-f838d4240da2",
   "metadata": {},
   "source": [
    "4.\tWrite a Python Program to calculate the natural logarithm of any number?"
   ]
  },
  {
   "cell_type": "code",
   "execution_count": 1,
   "id": "6833a5f5-4c8c-4ec2-8125-5274dd40930b",
   "metadata": {},
   "outputs": [
    {
     "name": "stdin",
     "output_type": "stream",
     "text": [
      "Enter a number:  25\n"
     ]
    },
    {
     "name": "stdout",
     "output_type": "stream",
     "text": [
      "Natural logarithm of 25.0 is 3.2188758248682006\n"
     ]
    }
   ],
   "source": [
    "import math\n",
    "n=float(input(\"Enter a number: \"))\n",
    "value = math.log(n)\n",
    "print(f\"Natural logarithm of {n} is {value}\")"
   ]
  },
  {
   "cell_type": "markdown",
   "id": "05f1be82-c77b-4891-a21c-b48a1028fdd9",
   "metadata": {},
   "source": [
    "5. Write a Python Program for cube sum of first n natural numbers?"
   ]
  },
  {
   "cell_type": "code",
   "execution_count": 2,
   "id": "d4a940d5-9dc9-4bee-b8cf-5356cbc55819",
   "metadata": {},
   "outputs": [
    {
     "name": "stdin",
     "output_type": "stream",
     "text": [
      "Enter a number:  12\n"
     ]
    },
    {
     "name": "stdout",
     "output_type": "stream",
     "text": [
      "Sum of cube of firts 12 number is 6084.0\n"
     ]
    }
   ],
   "source": [
    "n = int(input(\"Enter a number: \"))\n",
    "\n",
    "addition = ((n*(n+1))/2)**2\n",
    "print(f\"Sum of cube of firts {n} number is {addition}\")"
   ]
  }
 ],
 "metadata": {
  "kernelspec": {
   "display_name": "Python 3 (ipykernel)",
   "language": "python",
   "name": "python3"
  },
  "language_info": {
   "codemirror_mode": {
    "name": "ipython",
    "version": 3
   },
   "file_extension": ".py",
   "mimetype": "text/x-python",
   "name": "python",
   "nbconvert_exporter": "python",
   "pygments_lexer": "ipython3",
   "version": "3.10.6"
  }
 },
 "nbformat": 4,
 "nbformat_minor": 5
}
